{
 "cells": [
  {
   "cell_type": "markdown",
   "metadata": {
    "heading_collapsed": true
   },
   "source": [
    "# 1.0. Import"
   ]
  },
  {
   "cell_type": "code",
   "execution_count": 1,
   "metadata": {
    "ExecuteTime": {
     "end_time": "2021-08-06T22:36:42.461935Z",
     "start_time": "2021-08-06T22:36:39.482177Z"
    },
    "hidden": true
   },
   "outputs": [],
   "source": [
    "import pandas as pd\n",
    "import xgboost as xgb\n",
    "import numpy as np\n",
    "\n",
    "\n",
    "from sklearn.svm import SVR\n",
    "from sklearn.gaussian_process import GaussianProcessRegressor\n",
    "from sklearn.gaussian_process.kernels import ConstantKernel, RationalQuadratic\n",
    "from sklearn.preprocessing import StandardScaler\n",
    "\n",
    "\n",
    "from sklearn.metrics import mean_absolute_error, mean_squared_error, r2_score\n",
    "from tensorflow import keras\n",
    "from tensorflow.keras import layers\n",
    "from tensorflow.keras import callbacks\n",
    "import tensorflow as tf"
   ]
  },
  {
   "cell_type": "code",
   "execution_count": 2,
   "metadata": {
    "ExecuteTime": {
     "end_time": "2021-08-06T22:36:42.492497Z",
     "start_time": "2021-08-06T22:36:42.477894Z"
    },
    "hidden": true
   },
   "outputs": [],
   "source": [
    "#Importando o DataSet\n",
    "df_train = pd.read_csv(\"./databases/train.csv\")\n",
    "df_valid = pd.read_csv(\"./databases/valid.csv\") #Banco de dados criado pelos autores do artigo"
   ]
  },
  {
   "cell_type": "markdown",
   "metadata": {},
   "source": [
    "# 2.0. Validar Novo Banco de Dados"
   ]
  },
  {
   "cell_type": "markdown",
   "metadata": {},
   "source": [
    "Espaço para testar o desempenho do modelo em outro banco de dados buscado na literatura."
   ]
  },
  {
   "cell_type": "markdown",
   "metadata": {
    "heading_collapsed": true
   },
   "source": [
    "## 2.1. Preparando para testar os Modelos"
   ]
  },
  {
   "cell_type": "markdown",
   "metadata": {
    "hidden": true
   },
   "source": [
    "Primeiro vamos criar um DataSet para armazenar o resultado de cada modelo."
   ]
  },
  {
   "cell_type": "code",
   "execution_count": 3,
   "metadata": {
    "ExecuteTime": {
     "end_time": "2021-08-06T22:36:42.508406Z",
     "start_time": "2021-08-06T22:36:42.493502Z"
    },
    "hidden": true
   },
   "outputs": [],
   "source": [
    "colunas = ['MODEL','R2','RMSE','MAE','MAE_MAX','MAE_MIN']\n",
    "Metrics = pd.DataFrame(columns = colunas)"
   ]
  },
  {
   "cell_type": "markdown",
   "metadata": {
    "hidden": true
   },
   "source": [
    "Vamos também já organizar o treino como o dataset antigo e o teste como o novo, já aplicando o StandardScaler para alterar a escala."
   ]
  },
  {
   "cell_type": "code",
   "execution_count": 4,
   "metadata": {
    "ExecuteTime": {
     "end_time": "2021-08-06T22:36:42.524380Z",
     "start_time": "2021-08-06T22:36:42.509411Z"
    },
    "hidden": true
   },
   "outputs": [],
   "source": [
    "scaler = StandardScaler()\n",
    "\n",
    "X_treino = df_train.drop(['Resistência'], axis=1)\n",
    "X_treino = scaler.fit_transform(X_treino)\n",
    "y_treino = df_train['Resistência']\n",
    "\n",
    "X_valid = df_valid.drop(['Resistência'], axis=1)\n",
    "X_valid = scaler.transform(X_valid)\n",
    "y_valid = df_valid['Resistência']"
   ]
  },
  {
   "cell_type": "markdown",
   "metadata": {},
   "source": [
    "Vamos ainda criar uma função para calcular metricas:"
   ]
  },
  {
   "cell_type": "code",
   "execution_count": 5,
   "metadata": {},
   "outputs": [],
   "source": [
    "def calcular_metricas(y_true, y_pred, name_model):\n",
    "    MAE = mean_absolute_error(y_true, y_pred)              \n",
    "    RMSE = mean_squared_error(y_true, y_pred, squared=False)    \n",
    "    R2 = r2_score(y_true, y_pred) \n",
    "    MAE_MAX = abs(y_pred-y_true).max()\n",
    "    MAE_MIN = abs(y_pred-y_true).min()\n",
    "\n",
    "    return {'MODEL': name_model,'MAE': MAE,'RMSE': RMSE, 'R2': R2,\n",
    "                        'MAE_MAX': MAE_MAX,'MAE_MIN': MAE_MIN}  "
   ]
  },
  {
   "cell_type": "markdown",
   "metadata": {},
   "source": [
    "## 2.2. Modelos"
   ]
  },
  {
   "cell_type": "markdown",
   "metadata": {
    "heading_collapsed": true
   },
   "source": [
    "### 2.2.1. Decision Tree"
   ]
  },
  {
   "cell_type": "code",
   "execution_count": 6,
   "metadata": {
    "ExecuteTime": {
     "end_time": "2021-08-06T22:36:43.317288Z",
     "start_time": "2021-08-06T22:36:42.524849Z"
    },
    "hidden": true
   },
   "outputs": [],
   "source": [
    "xgbc = xgb.XGBRegressor(colsample_bytree= 0.898275838301962, \n",
    "                            learning_rate= 0.10335797738188568,\n",
    "                            max_depth = 10,\n",
    "                            min_child_weight= 3.5585146125243106, \n",
    "                            subsample= 0.7384101157071529)\n",
    "xgbc.fit(X_treino, y_treino)\n",
    "pred_xgb = xgbc.predict(X_valid)\n",
    "\n",
    "Metrics = Metrics.append(calcular_metricas(y_valid,pred_xgb,'XGBoost'), ignore_index=True)"
   ]
  },
  {
   "cell_type": "markdown",
   "metadata": {
    "heading_collapsed": true
   },
   "source": [
    "### 2.2.2. SVR"
   ]
  },
  {
   "cell_type": "code",
   "execution_count": 7,
   "metadata": {
    "ExecuteTime": {
     "end_time": "2021-08-06T22:36:43.396077Z",
     "start_time": "2021-08-06T22:36:43.335241Z"
    },
    "hidden": true
   },
   "outputs": [],
   "source": [
    "svr_model = SVR(kernel='rbf', C=32.919679770421595, gamma = 0.6017663761743526)\n",
    "svr_model.fit(X_treino, y_treino)\n",
    "pred_svr = svr_model.predict(X_valid)\n",
    "\n",
    "Metrics = Metrics.append(calcular_metricas(y_valid,pred_svr,'SVR'), ignore_index=True)"
   ]
  },
  {
   "cell_type": "markdown",
   "metadata": {
    "heading_collapsed": true
   },
   "source": [
    "### 2.2.3. RNA"
   ]
  },
  {
   "cell_type": "code",
   "execution_count": 8,
   "metadata": {
    "ExecuteTime": {
     "end_time": "2021-08-06T22:36:49.114192Z",
     "start_time": "2021-08-06T22:36:43.414031Z"
    },
    "hidden": true,
    "scrolled": true
   },
   "outputs": [],
   "source": [
    "#Função para obter resultados reprodutiveis \n",
    "tf.random.set_seed(1)\n",
    "\n",
    "# Vamos definir EarlyStopping. Isso faz com que o modelo pare quando parar de melhorar as predições\n",
    "early_stopping = callbacks.EarlyStopping(\n",
    "    min_delta=0.05,\n",
    "    patience=15,\n",
    "    restore_best_weights=True)\n",
    "\n",
    "#Definimos o Modelo\n",
    "model = keras.Sequential([\n",
    "    layers.Dense(512, activation='relu', input_shape=[X_treino.shape[1]]),\n",
    "    layers.BatchNormalization(),\n",
    "    layers.Dense(256, activation='relu'),\n",
    "    layers.BatchNormalization(),\n",
    "    layers.Dense(256, activation='relu'),\n",
    "    layers.BatchNormalization(),\n",
    "    layers.Dense(1),\n",
    "])\n",
    "\n",
    "\n",
    "model.compile(\n",
    "    optimizer='sgd', \n",
    "    loss='mae',\n",
    "    metrics=['mae','mse'],\n",
    ")\n",
    "history = model.fit(\n",
    "    X_treino, y_treino,\n",
    "    validation_split=0.1, #dados de teste\n",
    "    batch_size=45,\n",
    "    epochs=150,\n",
    "    verbose=0,\n",
    "    callbacks=[early_stopping],\n",
    "\n",
    ")\n",
    "\n",
    "rna_pred = model.predict(X_valid)\n",
    "rna_pred_reshape  = rna_pred.reshape((22,))\n",
    "\n",
    "Metrics = Metrics.append(calcular_metricas(y_valid,rna_pred_reshape,'RNA'), ignore_index=True)"
   ]
  },
  {
   "cell_type": "markdown",
   "metadata": {
    "heading_collapsed": true
   },
   "source": [
    "### 2.2.4. Gaussian"
   ]
  },
  {
   "cell_type": "code",
   "execution_count": 9,
   "metadata": {
    "ExecuteTime": {
     "end_time": "2021-08-06T22:36:49.586954Z",
     "start_time": "2021-08-06T22:36:49.145604Z"
    },
    "hidden": true
   },
   "outputs": [],
   "source": [
    "# Modelo: Definimos o Kernel, Treinamos e fazemos a predição\n",
    "kernel = ConstantKernel() * RationalQuadratic()\n",
    "gpr = GaussianProcessRegressor(kernel=kernel, alpha=0.23604724748727526,random_state=0).fit(X_treino, y_treino)\n",
    "pred_gpr = gpr.predict(X_valid)\n",
    "\n",
    "Metrics = Metrics.append(calcular_metricas(y_valid,pred_gpr,'GPR'), ignore_index=True)"
   ]
  },
  {
   "cell_type": "markdown",
   "metadata": {},
   "source": [
    "## 2.3. Resultado"
   ]
  },
  {
   "cell_type": "code",
   "execution_count": 10,
   "metadata": {
    "ExecuteTime": {
     "end_time": "2021-08-06T22:36:49.618955Z",
     "start_time": "2021-08-06T22:36:49.603997Z"
    },
    "scrolled": true
   },
   "outputs": [
    {
     "data": {
      "text/html": [
       "<div>\n",
       "<style scoped>\n",
       "    .dataframe tbody tr th:only-of-type {\n",
       "        vertical-align: middle;\n",
       "    }\n",
       "\n",
       "    .dataframe tbody tr th {\n",
       "        vertical-align: top;\n",
       "    }\n",
       "\n",
       "    .dataframe thead th {\n",
       "        text-align: right;\n",
       "    }\n",
       "</style>\n",
       "<table border=\"1\" class=\"dataframe\">\n",
       "  <thead>\n",
       "    <tr style=\"text-align: right;\">\n",
       "      <th></th>\n",
       "      <th>MODEL</th>\n",
       "      <th>R2</th>\n",
       "      <th>RMSE</th>\n",
       "      <th>MAE</th>\n",
       "      <th>MAE_MAX</th>\n",
       "      <th>MAE_MIN</th>\n",
       "    </tr>\n",
       "  </thead>\n",
       "  <tbody>\n",
       "    <tr>\n",
       "      <th>0</th>\n",
       "      <td>XGBoost</td>\n",
       "      <td>0.420866</td>\n",
       "      <td>4.462485</td>\n",
       "      <td>3.573026</td>\n",
       "      <td>9.750538</td>\n",
       "      <td>0.261980</td>\n",
       "    </tr>\n",
       "    <tr>\n",
       "      <th>1</th>\n",
       "      <td>SVR</td>\n",
       "      <td>0.366896</td>\n",
       "      <td>4.665788</td>\n",
       "      <td>4.039851</td>\n",
       "      <td>9.223131</td>\n",
       "      <td>0.671896</td>\n",
       "    </tr>\n",
       "    <tr>\n",
       "      <th>2</th>\n",
       "      <td>RNA</td>\n",
       "      <td>0.436124</td>\n",
       "      <td>4.403307</td>\n",
       "      <td>3.576836</td>\n",
       "      <td>10.209608</td>\n",
       "      <td>0.276102</td>\n",
       "    </tr>\n",
       "    <tr>\n",
       "      <th>3</th>\n",
       "      <td>GPR</td>\n",
       "      <td>0.590093</td>\n",
       "      <td>3.754308</td>\n",
       "      <td>3.035780</td>\n",
       "      <td>8.397668</td>\n",
       "      <td>0.068833</td>\n",
       "    </tr>\n",
       "  </tbody>\n",
       "</table>\n",
       "</div>"
      ],
      "text/plain": [
       "     MODEL        R2      RMSE       MAE    MAE_MAX   MAE_MIN\n",
       "0  XGBoost  0.420866  4.462485  3.573026   9.750538  0.261980\n",
       "1      SVR  0.366896  4.665788  4.039851   9.223131  0.671896\n",
       "2      RNA  0.436124  4.403307  3.576836  10.209608  0.276102\n",
       "3      GPR  0.590093  3.754308  3.035780   8.397668  0.068833"
      ]
     },
     "execution_count": 10,
     "metadata": {},
     "output_type": "execute_result"
    }
   ],
   "source": [
    "Metrics"
   ]
  }
 ],
 "metadata": {
  "hide_input": false,
  "kernelspec": {
   "display_name": "Python 3",
   "language": "python",
   "name": "python3"
  },
  "language_info": {
   "codemirror_mode": {
    "name": "ipython",
    "version": 3
   },
   "file_extension": ".py",
   "mimetype": "text/x-python",
   "name": "python",
   "nbconvert_exporter": "python",
   "pygments_lexer": "ipython3",
   "version": "3.8.6"
  }
 },
 "nbformat": 4,
 "nbformat_minor": 4
}
