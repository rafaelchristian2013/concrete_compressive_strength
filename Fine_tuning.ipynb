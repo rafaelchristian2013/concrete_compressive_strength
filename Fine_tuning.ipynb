{
 "cells": [
  {
   "cell_type": "code",
   "execution_count": 1,
   "metadata": {},
   "outputs": [],
   "source": [
    "import pandas as pd\n",
    "import xgboost as xgb\n",
    "\n",
    "\n",
    "from sklearn.svm import SVR\n",
    "from sklearn.gaussian_process import GaussianProcessRegressor\n",
    "from sklearn.gaussian_process.kernels import ConstantKernel, RationalQuadratic\n",
    "from sklearn.model_selection import KFold\n",
    "from sklearn.preprocessing import StandardScaler\n",
    "from sklearn.utils.fixes import loguniform\n",
    "from sklearn.pipeline import Pipeline\n",
    "from sklearn.model_selection import RandomizedSearchCV\n",
    "\n",
    "from scipy.stats import uniform\n"
   ]
  },
  {
   "cell_type": "code",
   "execution_count": 2,
   "metadata": {},
   "outputs": [],
   "source": [
    "df_concreto = pd.read_csv(\"./databases/train.csv\")"
   ]
  },
  {
   "cell_type": "code",
   "execution_count": 3,
   "metadata": {},
   "outputs": [],
   "source": [
    "X = df_concreto.drop(['Resistência'], axis=1)\n",
    "y = df_concreto['Resistência']"
   ]
  },
  {
   "cell_type": "code",
   "execution_count": 4,
   "metadata": {},
   "outputs": [],
   "source": [
    "kf = KFold(10, shuffle=True, random_state=451)"
   ]
  },
  {
   "cell_type": "markdown",
   "metadata": {},
   "source": [
    "## XGBoost"
   ]
  },
  {
   "cell_type": "code",
   "execution_count": null,
   "metadata": {},
   "outputs": [],
   "source": [
    "my_pipeline = Pipeline(steps=[('preprocessor', StandardScaler()),\n",
    "                              ('model', xgb.XGBRegressor())\n",
    "                             ])\n",
    "\n",
    "parameters = {'model__learning_rate': uniform(0,1),\n",
    "              'model__max_depth': [1,2,3,4,5,6,7,8,9,10],\n",
    "              'model__min_child_weight': uniform(0,10), \n",
    "              'model__subsample': uniform(0,1), \n",
    "              'model__colsample_bytree': uniform(0,1)} \n",
    "\n",
    "\n",
    "xgb_grid = RandomizedSearchCV(estimator = my_pipeline,\n",
    "                            param_distributions = parameters,\n",
    "                            cv = kf,\n",
    "                            n_iter = 100,\n",
    "                            scoring='r2')\n",
    "\n",
    "xgb_grid.fit(X,y)"
   ]
  },
  {
   "cell_type": "code",
   "execution_count": 12,
   "metadata": {},
   "outputs": [
    {
     "name": "stdout",
     "output_type": "stream",
     "text": [
      "{'model__colsample_bytree': 0.7202623705581781, 'model__learning_rate': 0.12362868934928606, 'model__max_depth': 5, 'model__min_child_weight': 3.370142151529767, 'model__subsample': 0.9606537825153967}\n"
     ]
    }
   ],
   "source": [
    "print(xgb_grid.best_params_)"
   ]
  },
  {
   "cell_type": "markdown",
   "metadata": {},
   "source": [
    "## SVR"
   ]
  },
  {
   "cell_type": "code",
   "execution_count": null,
   "metadata": {},
   "outputs": [],
   "source": [
    "my_pipeline = Pipeline(steps=[('preprocessor', StandardScaler()),\n",
    "                              ('model', SVR(kernel='rbf'))\n",
    "                             ])\n",
    "\n",
    "parameters = { 'model__C': loguniform(1e-3, 1e3),\n",
    "'model__gamma': loguniform(1e-3, 1e3)}\n",
    "\n",
    "\n",
    "svr_grid = RandomizedSearchCV(estimator = my_pipeline,\n",
    "                            param_distributions = parameters,\n",
    "                            cv = kf,\n",
    "                            n_iter = 100,\n",
    "                            scoring='r2')\n",
    "\n",
    "svr_grid.fit(X,y)"
   ]
  },
  {
   "cell_type": "code",
   "execution_count": 13,
   "metadata": {},
   "outputs": [
    {
     "name": "stdout",
     "output_type": "stream",
     "text": [
      "{'model__C': 178.69884857011985, 'model__gamma': 0.5480277293338641}\n"
     ]
    }
   ],
   "source": [
    "print(svr_grid.best_params_)"
   ]
  },
  {
   "cell_type": "markdown",
   "metadata": {},
   "source": [
    "## GPR"
   ]
  },
  {
   "cell_type": "code",
   "execution_count": null,
   "metadata": {},
   "outputs": [],
   "source": [
    "kernel = ConstantKernel() * RationalQuadratic()\n",
    "my_pipeline = Pipeline(steps=[('preprocessor', StandardScaler()),\n",
    "                              ('model', GaussianProcessRegressor(kernel=kernel,random_state=0))\n",
    "                             ])\n",
    "\n",
    "parameters = { 'model__alpha': loguniform(1e-10, 1e3)}\n",
    "\n",
    "\n",
    "gpr_grid = RandomizedSearchCV(estimator = my_pipeline,\n",
    "                            param_distributions = parameters,\n",
    "                            cv = kf,\n",
    "                            n_iter = 100,\n",
    "                            scoring='r2')\n",
    "\n",
    "gpr_grid.fit(X,y)"
   ]
  },
  {
   "cell_type": "code",
   "execution_count": 8,
   "metadata": {},
   "outputs": [
    {
     "name": "stdout",
     "output_type": "stream",
     "text": [
      "{'model__alpha': 2.874558860987508}\n"
     ]
    }
   ],
   "source": [
    "print(gpr_grid.best_params_)"
   ]
  }
 ],
 "metadata": {
  "interpreter": {
   "hash": "dc5bf880703a9b54003ddf641940b44e89f3cbb12b6e3fd309da582d622ad52c"
  },
  "kernelspec": {
   "display_name": "Python 3.8.6 64-bit ('venv_concreto': venv)",
   "language": "python",
   "name": "python3"
  },
  "language_info": {
   "codemirror_mode": {
    "name": "ipython",
    "version": 3
   },
   "file_extension": ".py",
   "mimetype": "text/x-python",
   "name": "python",
   "nbconvert_exporter": "python",
   "pygments_lexer": "ipython3",
   "version": "3.8.6"
  },
  "orig_nbformat": 4
 },
 "nbformat": 4,
 "nbformat_minor": 2
}
