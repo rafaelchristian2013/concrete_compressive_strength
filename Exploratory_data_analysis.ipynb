{
 "cells": [
  {
   "cell_type": "markdown",
   "metadata": {
    "heading_collapsed": true
   },
   "source": [
    "# 1.0. Import"
   ]
  },
  {
   "cell_type": "code",
   "execution_count": 1,
   "metadata": {
    "ExecuteTime": {
     "end_time": "2021-08-04T22:39:59.352600Z",
     "start_time": "2021-08-04T22:39:58.088660Z"
    },
    "hidden": true
   },
   "outputs": [],
   "source": [
    "#Bibliotecas utilizadas no trabalho\n",
    "import pandas as pd\n",
    "import matplotlib.pyplot as plt\n",
    "import seaborn as sns\n",
    "import numpy as np"
   ]
  },
  {
   "cell_type": "code",
   "execution_count": 2,
   "metadata": {
    "ExecuteTime": {
     "end_time": "2021-08-04T22:39:59.383635Z",
     "start_time": "2021-08-04T22:39:59.354060Z"
    },
    "hidden": true
   },
   "outputs": [],
   "source": [
    "#Importando o DataSet\n",
    "df_concreto = pd.read_csv(\"./databases/concrete.csv\")"
   ]
  },
  {
   "cell_type": "code",
   "execution_count": 3,
   "metadata": {
    "ExecuteTime": {
     "end_time": "2021-08-04T22:39:59.415109Z",
     "start_time": "2021-08-04T22:39:59.385189Z"
    },
    "hidden": true,
    "scrolled": true
   },
   "outputs": [
    {
     "data": {
      "text/html": [
       "<div>\n",
       "<style scoped>\n",
       "    .dataframe tbody tr th:only-of-type {\n",
       "        vertical-align: middle;\n",
       "    }\n",
       "\n",
       "    .dataframe tbody tr th {\n",
       "        vertical-align: top;\n",
       "    }\n",
       "\n",
       "    .dataframe thead th {\n",
       "        text-align: right;\n",
       "    }\n",
       "</style>\n",
       "<table border=\"1\" class=\"dataframe\">\n",
       "  <thead>\n",
       "    <tr style=\"text-align: right;\">\n",
       "      <th></th>\n",
       "      <th>Cimento</th>\n",
       "      <th>EscóriadeAltoForno</th>\n",
       "      <th>CinzasVolantes</th>\n",
       "      <th>Agua</th>\n",
       "      <th>Superplastificante</th>\n",
       "      <th>AgregadoGrosso</th>\n",
       "      <th>Agregadofino</th>\n",
       "      <th>Idade</th>\n",
       "      <th>Resistência</th>\n",
       "    </tr>\n",
       "  </thead>\n",
       "  <tbody>\n",
       "    <tr>\n",
       "      <th>0</th>\n",
       "      <td>540.0</td>\n",
       "      <td>0.0</td>\n",
       "      <td>0.0</td>\n",
       "      <td>162.0</td>\n",
       "      <td>2.5</td>\n",
       "      <td>1040.0</td>\n",
       "      <td>676.0</td>\n",
       "      <td>28</td>\n",
       "      <td>79.99</td>\n",
       "    </tr>\n",
       "    <tr>\n",
       "      <th>1</th>\n",
       "      <td>540.0</td>\n",
       "      <td>0.0</td>\n",
       "      <td>0.0</td>\n",
       "      <td>162.0</td>\n",
       "      <td>2.5</td>\n",
       "      <td>1055.0</td>\n",
       "      <td>676.0</td>\n",
       "      <td>28</td>\n",
       "      <td>61.89</td>\n",
       "    </tr>\n",
       "    <tr>\n",
       "      <th>2</th>\n",
       "      <td>332.5</td>\n",
       "      <td>142.5</td>\n",
       "      <td>0.0</td>\n",
       "      <td>228.0</td>\n",
       "      <td>0.0</td>\n",
       "      <td>932.0</td>\n",
       "      <td>594.0</td>\n",
       "      <td>270</td>\n",
       "      <td>40.27</td>\n",
       "    </tr>\n",
       "    <tr>\n",
       "      <th>3</th>\n",
       "      <td>332.5</td>\n",
       "      <td>142.5</td>\n",
       "      <td>0.0</td>\n",
       "      <td>228.0</td>\n",
       "      <td>0.0</td>\n",
       "      <td>932.0</td>\n",
       "      <td>594.0</td>\n",
       "      <td>365</td>\n",
       "      <td>41.05</td>\n",
       "    </tr>\n",
       "    <tr>\n",
       "      <th>4</th>\n",
       "      <td>198.6</td>\n",
       "      <td>132.4</td>\n",
       "      <td>0.0</td>\n",
       "      <td>192.0</td>\n",
       "      <td>0.0</td>\n",
       "      <td>978.4</td>\n",
       "      <td>825.5</td>\n",
       "      <td>360</td>\n",
       "      <td>44.30</td>\n",
       "    </tr>\n",
       "  </tbody>\n",
       "</table>\n",
       "</div>"
      ],
      "text/plain": [
       "   Cimento  EscóriadeAltoForno  CinzasVolantes   Agua  Superplastificante  \\\n",
       "0    540.0                 0.0             0.0  162.0                 2.5   \n",
       "1    540.0                 0.0             0.0  162.0                 2.5   \n",
       "2    332.5               142.5             0.0  228.0                 0.0   \n",
       "3    332.5               142.5             0.0  228.0                 0.0   \n",
       "4    198.6               132.4             0.0  192.0                 0.0   \n",
       "\n",
       "   AgregadoGrosso  Agregadofino  Idade  Resistência  \n",
       "0          1040.0         676.0     28        79.99  \n",
       "1          1055.0         676.0     28        61.89  \n",
       "2           932.0         594.0    270        40.27  \n",
       "3           932.0         594.0    365        41.05  \n",
       "4           978.4         825.5    360        44.30  "
      ]
     },
     "execution_count": 3,
     "metadata": {},
     "output_type": "execute_result"
    }
   ],
   "source": [
    "df_concreto.head()"
   ]
  },
  {
   "cell_type": "markdown",
   "metadata": {
    "ExecuteTime": {
     "end_time": "2021-01-12T03:11:07.118486Z",
     "start_time": "2021-01-12T03:11:07.112464Z"
    },
    "heading_collapsed": true
   },
   "source": [
    "# 2.0. Limpeza dos Dados"
   ]
  },
  {
   "cell_type": "markdown",
   "metadata": {
    "hidden": true
   },
   "source": [
    "## 2.1. Dados Faltando e Descrição dos dados\n",
    "Vamos ver se possui alguma linha em branco e a descrição de cada coluna."
   ]
  },
  {
   "cell_type": "code",
   "execution_count": 4,
   "metadata": {
    "ExecuteTime": {
     "end_time": "2021-08-04T22:39:59.431138Z",
     "start_time": "2021-08-04T22:39:59.417134Z"
    },
    "hidden": true
   },
   "outputs": [
    {
     "data": {
      "text/plain": [
       "Cimento               0\n",
       "EscóriadeAltoForno    0\n",
       "CinzasVolantes        0\n",
       "Agua                  0\n",
       "Superplastificante    0\n",
       "AgregadoGrosso        0\n",
       "Agregadofino          0\n",
       "Idade                 0\n",
       "Resistência           0\n",
       "dtype: int64"
      ]
     },
     "execution_count": 4,
     "metadata": {},
     "output_type": "execute_result"
    }
   ],
   "source": [
    "df_concreto.isnull().sum()"
   ]
  },
  {
   "cell_type": "markdown",
   "metadata": {
    "hidden": true
   },
   "source": [
    "Podemos ver que nosso DataSet não possui nenhuma linha em branco."
   ]
  },
  {
   "cell_type": "markdown",
   "metadata": {
    "hidden": true
   },
   "source": [
    "Agora vamos dar uma olhada na descrição geral dos dados. Aqui podemos ver o range das features já para perceber algum potencial outlier."
   ]
  },
  {
   "cell_type": "code",
   "execution_count": 5,
   "metadata": {
    "ExecuteTime": {
     "end_time": "2021-08-04T22:39:59.463008Z",
     "start_time": "2021-08-04T22:39:59.432062Z"
    },
    "hidden": true,
    "scrolled": true
   },
   "outputs": [
    {
     "data": {
      "text/html": [
       "<div>\n",
       "<style scoped>\n",
       "    .dataframe tbody tr th:only-of-type {\n",
       "        vertical-align: middle;\n",
       "    }\n",
       "\n",
       "    .dataframe tbody tr th {\n",
       "        vertical-align: top;\n",
       "    }\n",
       "\n",
       "    .dataframe thead th {\n",
       "        text-align: right;\n",
       "    }\n",
       "</style>\n",
       "<table border=\"1\" class=\"dataframe\">\n",
       "  <thead>\n",
       "    <tr style=\"text-align: right;\">\n",
       "      <th></th>\n",
       "      <th>Cimento</th>\n",
       "      <th>EscóriadeAltoForno</th>\n",
       "      <th>CinzasVolantes</th>\n",
       "      <th>Agua</th>\n",
       "      <th>Superplastificante</th>\n",
       "      <th>AgregadoGrosso</th>\n",
       "      <th>Agregadofino</th>\n",
       "      <th>Idade</th>\n",
       "      <th>Resistência</th>\n",
       "    </tr>\n",
       "  </thead>\n",
       "  <tbody>\n",
       "    <tr>\n",
       "      <th>count</th>\n",
       "      <td>1030.000000</td>\n",
       "      <td>1030.000000</td>\n",
       "      <td>1030.000000</td>\n",
       "      <td>1030.000000</td>\n",
       "      <td>1030.000000</td>\n",
       "      <td>1030.000000</td>\n",
       "      <td>1030.000000</td>\n",
       "      <td>1030.000000</td>\n",
       "      <td>1030.000000</td>\n",
       "    </tr>\n",
       "    <tr>\n",
       "      <th>mean</th>\n",
       "      <td>281.167864</td>\n",
       "      <td>73.895825</td>\n",
       "      <td>54.188350</td>\n",
       "      <td>181.567282</td>\n",
       "      <td>6.204660</td>\n",
       "      <td>972.918932</td>\n",
       "      <td>773.580485</td>\n",
       "      <td>45.662136</td>\n",
       "      <td>35.817961</td>\n",
       "    </tr>\n",
       "    <tr>\n",
       "      <th>std</th>\n",
       "      <td>104.506364</td>\n",
       "      <td>86.279342</td>\n",
       "      <td>63.997004</td>\n",
       "      <td>21.354219</td>\n",
       "      <td>5.973841</td>\n",
       "      <td>77.753954</td>\n",
       "      <td>80.175980</td>\n",
       "      <td>63.169912</td>\n",
       "      <td>16.705742</td>\n",
       "    </tr>\n",
       "    <tr>\n",
       "      <th>min</th>\n",
       "      <td>102.000000</td>\n",
       "      <td>0.000000</td>\n",
       "      <td>0.000000</td>\n",
       "      <td>121.800000</td>\n",
       "      <td>0.000000</td>\n",
       "      <td>801.000000</td>\n",
       "      <td>594.000000</td>\n",
       "      <td>1.000000</td>\n",
       "      <td>2.330000</td>\n",
       "    </tr>\n",
       "    <tr>\n",
       "      <th>25%</th>\n",
       "      <td>192.375000</td>\n",
       "      <td>0.000000</td>\n",
       "      <td>0.000000</td>\n",
       "      <td>164.900000</td>\n",
       "      <td>0.000000</td>\n",
       "      <td>932.000000</td>\n",
       "      <td>730.950000</td>\n",
       "      <td>7.000000</td>\n",
       "      <td>23.710000</td>\n",
       "    </tr>\n",
       "    <tr>\n",
       "      <th>50%</th>\n",
       "      <td>272.900000</td>\n",
       "      <td>22.000000</td>\n",
       "      <td>0.000000</td>\n",
       "      <td>185.000000</td>\n",
       "      <td>6.400000</td>\n",
       "      <td>968.000000</td>\n",
       "      <td>779.500000</td>\n",
       "      <td>28.000000</td>\n",
       "      <td>34.445000</td>\n",
       "    </tr>\n",
       "    <tr>\n",
       "      <th>75%</th>\n",
       "      <td>350.000000</td>\n",
       "      <td>142.950000</td>\n",
       "      <td>118.300000</td>\n",
       "      <td>192.000000</td>\n",
       "      <td>10.200000</td>\n",
       "      <td>1029.400000</td>\n",
       "      <td>824.000000</td>\n",
       "      <td>56.000000</td>\n",
       "      <td>46.135000</td>\n",
       "    </tr>\n",
       "    <tr>\n",
       "      <th>max</th>\n",
       "      <td>540.000000</td>\n",
       "      <td>359.400000</td>\n",
       "      <td>200.100000</td>\n",
       "      <td>247.000000</td>\n",
       "      <td>32.200000</td>\n",
       "      <td>1145.000000</td>\n",
       "      <td>992.600000</td>\n",
       "      <td>365.000000</td>\n",
       "      <td>82.600000</td>\n",
       "    </tr>\n",
       "  </tbody>\n",
       "</table>\n",
       "</div>"
      ],
      "text/plain": [
       "           Cimento  EscóriadeAltoForno  CinzasVolantes         Agua  \\\n",
       "count  1030.000000         1030.000000     1030.000000  1030.000000   \n",
       "mean    281.167864           73.895825       54.188350   181.567282   \n",
       "std     104.506364           86.279342       63.997004    21.354219   \n",
       "min     102.000000            0.000000        0.000000   121.800000   \n",
       "25%     192.375000            0.000000        0.000000   164.900000   \n",
       "50%     272.900000           22.000000        0.000000   185.000000   \n",
       "75%     350.000000          142.950000      118.300000   192.000000   \n",
       "max     540.000000          359.400000      200.100000   247.000000   \n",
       "\n",
       "       Superplastificante  AgregadoGrosso  Agregadofino        Idade  \\\n",
       "count         1030.000000     1030.000000   1030.000000  1030.000000   \n",
       "mean             6.204660      972.918932    773.580485    45.662136   \n",
       "std              5.973841       77.753954     80.175980    63.169912   \n",
       "min              0.000000      801.000000    594.000000     1.000000   \n",
       "25%              0.000000      932.000000    730.950000     7.000000   \n",
       "50%              6.400000      968.000000    779.500000    28.000000   \n",
       "75%             10.200000     1029.400000    824.000000    56.000000   \n",
       "max             32.200000     1145.000000    992.600000   365.000000   \n",
       "\n",
       "       Resistência  \n",
       "count  1030.000000  \n",
       "mean     35.817961  \n",
       "std      16.705742  \n",
       "min       2.330000  \n",
       "25%      23.710000  \n",
       "50%      34.445000  \n",
       "75%      46.135000  \n",
       "max      82.600000  "
      ]
     },
     "execution_count": 5,
     "metadata": {},
     "output_type": "execute_result"
    }
   ],
   "source": [
    "df_concreto.describe()"
   ]
  },
  {
   "cell_type": "markdown",
   "metadata": {
    "hidden": true
   },
   "source": [
    "## 2.2. Dados repetidos\n",
    "Eliminado linhas repetidas:"
   ]
  },
  {
   "cell_type": "code",
   "execution_count": 6,
   "metadata": {
    "ExecuteTime": {
     "end_time": "2021-08-04T22:39:59.479106Z",
     "start_time": "2021-08-04T22:39:59.463978Z"
    },
    "hidden": true
   },
   "outputs": [],
   "source": [
    "df_concreto = df_concreto.drop_duplicates()"
   ]
  },
  {
   "cell_type": "code",
   "execution_count": 7,
   "metadata": {
    "ExecuteTime": {
     "end_time": "2021-08-04T22:39:59.495034Z",
     "start_time": "2021-08-04T22:39:59.480031Z"
    },
    "hidden": true
   },
   "outputs": [
    {
     "data": {
      "text/plain": [
       "(1005, 9)"
      ]
     },
     "execution_count": 7,
     "metadata": {},
     "output_type": "execute_result"
    }
   ],
   "source": [
    "df_concreto.shape"
   ]
  },
  {
   "cell_type": "markdown",
   "metadata": {
    "hidden": true
   },
   "source": [
    "Podemos ver que havia 25 linhas repetidas que foram apagadas. Saiu de 1030 para 1005 instancias."
   ]
  },
  {
   "cell_type": "markdown",
   "metadata": {
    "hidden": true
   },
   "source": [
    "## 2.3. Tempo\n",
    "Devido a 28 dias ser o tempo padrão utilizado para a cura do concreto, vamos optar por apenas manter as linhas que possuem Idade de 28 dias pois representa o padrão que o modelo irá encontrar."
   ]
  },
  {
   "cell_type": "code",
   "execution_count": 8,
   "metadata": {
    "ExecuteTime": {
     "end_time": "2021-08-04T22:39:59.510215Z",
     "start_time": "2021-08-04T22:39:59.496031Z"
    },
    "hidden": true
   },
   "outputs": [],
   "source": [
    "df_concreto = df_concreto.loc[(df_concreto['Idade'] == 28)]"
   ]
  },
  {
   "cell_type": "code",
   "execution_count": 9,
   "metadata": {
    "ExecuteTime": {
     "end_time": "2021-08-04T22:39:59.525265Z",
     "start_time": "2021-08-04T22:39:59.511214Z"
    },
    "hidden": true,
    "scrolled": true
   },
   "outputs": [
    {
     "data": {
      "text/plain": [
       "(419, 9)"
      ]
     },
     "execution_count": 9,
     "metadata": {},
     "output_type": "execute_result"
    }
   ],
   "source": [
    "df_concreto.shape"
   ]
  },
  {
   "cell_type": "markdown",
   "metadata": {
    "ExecuteTime": {
     "end_time": "2021-06-01T18:26:33.044782Z",
     "start_time": "2021-06-01T18:26:33.032789Z"
    },
    "hidden": true
   },
   "source": [
    "Como podemos ver o DataSet ficou com 419 linhas, contra 1005 anteriormente."
   ]
  },
  {
   "cell_type": "markdown",
   "metadata": {
    "hidden": true
   },
   "source": [
    "Agora podemos remover a coluna Idade já que temos apenas 28 dias como Idade."
   ]
  },
  {
   "cell_type": "code",
   "execution_count": 10,
   "metadata": {
    "ExecuteTime": {
     "end_time": "2021-08-04T22:39:59.540927Z",
     "start_time": "2021-08-04T22:39:59.526253Z"
    },
    "hidden": true
   },
   "outputs": [],
   "source": [
    "df_concreto = df_concreto.drop(\"Idade\", axis=1)"
   ]
  },
  {
   "cell_type": "markdown",
   "metadata": {
    "hidden": true
   },
   "source": [
    "## 2.4. Resistencia\n",
    "Vamos manter apenas as resistencias que variam de 15 a 50 Mpa, pois representam os valores de concretos convencionais que iremos utilizar."
   ]
  },
  {
   "cell_type": "code",
   "execution_count": 11,
   "metadata": {
    "ExecuteTime": {
     "end_time": "2021-08-04T22:39:59.557035Z",
     "start_time": "2021-08-04T22:39:59.541852Z"
    },
    "hidden": true
   },
   "outputs": [],
   "source": [
    "df_concreto = df_concreto.loc[(df_concreto['Resistência'] >= 15) & (df_concreto['Resistência'] <= 50)]"
   ]
  },
  {
   "cell_type": "markdown",
   "metadata": {
    "hidden": true
   },
   "source": [
    "Quantos dados sobraram:"
   ]
  },
  {
   "cell_type": "code",
   "execution_count": 12,
   "metadata": {
    "ExecuteTime": {
     "end_time": "2021-08-04T22:39:59.572379Z",
     "start_time": "2021-08-04T22:39:59.558041Z"
    },
    "hidden": true,
    "scrolled": true
   },
   "outputs": [
    {
     "data": {
      "text/plain": [
       "(329, 8)"
      ]
     },
     "execution_count": 12,
     "metadata": {},
     "output_type": "execute_result"
    }
   ],
   "source": [
    "df_concreto.shape"
   ]
  },
  {
   "cell_type": "markdown",
   "metadata": {
    "hidden": true
   },
   "source": [
    "Agora nossos dados possuem apenas 329 linhas. "
   ]
  },
  {
   "cell_type": "markdown",
   "metadata": {
    "hidden": true
   },
   "source": [
    "Descrição dos dados apos a limpeza e salvar em uma pasta:"
   ]
  },
  {
   "cell_type": "code",
   "execution_count": 13,
   "metadata": {
    "ExecuteTime": {
     "end_time": "2021-08-04T22:40:51.381482Z",
     "start_time": "2021-08-04T22:40:51.343524Z"
    },
    "hidden": true
   },
   "outputs": [
    {
     "data": {
      "text/html": [
       "<div>\n",
       "<style scoped>\n",
       "    .dataframe tbody tr th:only-of-type {\n",
       "        vertical-align: middle;\n",
       "    }\n",
       "\n",
       "    .dataframe tbody tr th {\n",
       "        vertical-align: top;\n",
       "    }\n",
       "\n",
       "    .dataframe thead th {\n",
       "        text-align: right;\n",
       "    }\n",
       "</style>\n",
       "<table border=\"1\" class=\"dataframe\">\n",
       "  <thead>\n",
       "    <tr style=\"text-align: right;\">\n",
       "      <th></th>\n",
       "      <th>min</th>\n",
       "      <th>max</th>\n",
       "      <th>mean</th>\n",
       "      <th>std</th>\n",
       "    </tr>\n",
       "  </thead>\n",
       "  <tbody>\n",
       "    <tr>\n",
       "      <th>Cimento</th>\n",
       "      <td>102.00</td>\n",
       "      <td>516.0</td>\n",
       "      <td>242.660182</td>\n",
       "      <td>87.715278</td>\n",
       "    </tr>\n",
       "    <tr>\n",
       "      <th>EscóriadeAltoForno</th>\n",
       "      <td>0.00</td>\n",
       "      <td>359.4</td>\n",
       "      <td>89.677204</td>\n",
       "      <td>89.497098</td>\n",
       "    </tr>\n",
       "    <tr>\n",
       "      <th>CinzasVolantes</th>\n",
       "      <td>0.00</td>\n",
       "      <td>200.1</td>\n",
       "      <td>64.733435</td>\n",
       "      <td>65.821879</td>\n",
       "    </tr>\n",
       "    <tr>\n",
       "      <th>Agua</th>\n",
       "      <td>121.80</td>\n",
       "      <td>247.0</td>\n",
       "      <td>186.715805</td>\n",
       "      <td>17.693153</td>\n",
       "    </tr>\n",
       "    <tr>\n",
       "      <th>Superplastificante</th>\n",
       "      <td>0.00</td>\n",
       "      <td>22.1</td>\n",
       "      <td>6.183891</td>\n",
       "      <td>5.025437</td>\n",
       "    </tr>\n",
       "    <tr>\n",
       "      <th>AgregadoGrosso</th>\n",
       "      <td>801.00</td>\n",
       "      <td>1145.0</td>\n",
       "      <td>958.134650</td>\n",
       "      <td>80.679333</td>\n",
       "    </tr>\n",
       "    <tr>\n",
       "      <th>Agregadofino</th>\n",
       "      <td>594.00</td>\n",
       "      <td>945.0</td>\n",
       "      <td>763.814590</td>\n",
       "      <td>70.913377</td>\n",
       "    </tr>\n",
       "    <tr>\n",
       "      <th>Resistência</th>\n",
       "      <td>15.09</td>\n",
       "      <td>49.9</td>\n",
       "      <td>32.363343</td>\n",
       "      <td>8.524214</td>\n",
       "    </tr>\n",
       "  </tbody>\n",
       "</table>\n",
       "</div>"
      ],
      "text/plain": [
       "                       min     max        mean        std\n",
       "Cimento             102.00   516.0  242.660182  87.715278\n",
       "EscóriadeAltoForno    0.00   359.4   89.677204  89.497098\n",
       "CinzasVolantes        0.00   200.1   64.733435  65.821879\n",
       "Agua                121.80   247.0  186.715805  17.693153\n",
       "Superplastificante    0.00    22.1    6.183891   5.025437\n",
       "AgregadoGrosso      801.00  1145.0  958.134650  80.679333\n",
       "Agregadofino        594.00   945.0  763.814590  70.913377\n",
       "Resistência          15.09    49.9   32.363343   8.524214"
      ]
     },
     "execution_count": 13,
     "metadata": {},
     "output_type": "execute_result"
    }
   ],
   "source": [
    "descricao = df_concreto.describe()\n",
    "descricao = descricao.T\n",
    "descricao = descricao[['min','max','mean','std']]\n",
    "descricao"
   ]
  },
  {
   "cell_type": "markdown",
   "metadata": {
    "hidden": true
   },
   "source": [
    "Por ultimo vamos exportar o banco limpo."
   ]
  },
  {
   "cell_type": "code",
   "execution_count": 14,
   "metadata": {
    "ExecuteTime": {
     "end_time": "2021-08-04T22:48:30.141511Z",
     "start_time": "2021-08-04T22:48:30.127572Z"
    },
    "hidden": true
   },
   "outputs": [],
   "source": [
    "df_concreto.to_csv(\"./databases/train.csv\",index=False)"
   ]
  },
  {
   "cell_type": "markdown",
   "metadata": {},
   "source": [
    "# 3.0. Analise e Insights\n",
    "Vamos tentar obter insights do nosso dataset. Esses insights vao ser diretamente aplicados nos proximos."
   ]
  },
  {
   "cell_type": "markdown",
   "metadata": {
    "hidden": true
   },
   "source": [
    "## 3.1. Analise de algumas features\n",
    "Vamos analisar algumas features consideradas mais importantes."
   ]
  },
  {
   "cell_type": "markdown",
   "metadata": {},
   "source": [
    "### 3.1.1. Cimento"
   ]
  },
  {
   "cell_type": "code",
   "execution_count": 15,
   "metadata": {
    "ExecuteTime": {
     "end_time": "2021-04-22T18:43:54.598415Z",
     "start_time": "2021-04-22T18:43:54.315139Z"
    },
    "hidden": true
   },
   "outputs": [
    {
     "name": "stderr",
     "output_type": "stream",
     "text": [
      "c:\\Projetos_git\\Concreto\\venv_concreto\\lib\\site-packages\\seaborn\\distributions.py:2619: FutureWarning: `distplot` is a deprecated function and will be removed in a future version. Please adapt your code to use either `displot` (a figure-level function with similar flexibility) or `histplot` (an axes-level function for histograms).\n",
      "  warnings.warn(msg, FutureWarning)\n"
     ]
    },
    {
     "data": {
      "text/plain": [
       "<AxesSubplot:xlabel='Cimento'>"
      ]
     },
     "execution_count": 15,
     "metadata": {},
     "output_type": "execute_result"
    },
    {
     "data": {
      "image/png": "[encoded data removed]",
      "text/plain": [
       "<Figure size 576x432 with 1 Axes>"
      ]
     },
     "metadata": {
      "needs_background": "light"
     },
     "output_type": "display_data"
    }
   ],
   "source": [
    "plt.figure(figsize=(8,6))\n",
    "sns.distplot(df_concreto.Cimento, kde=0)"
   ]
  },
  {
   "cell_type": "markdown",
   "metadata": {
    "hidden": true
   },
   "source": [
    "Conforme vimos na descrição na parte anterior, o cimento varia de 100-500 aproximadamente. Mas nos nao conseguimos tirar nenhuma conclusão atraves desse grafico."
   ]
  },
  {
   "cell_type": "markdown",
   "metadata": {
    "hidden": true
   },
   "source": [
    "Vamos ver se a quantidade de cimento é diretamente proporcional a resistencia, ou seja se aumentarmos a quantidade de cimento, nos aumentamos a resistencia:"
   ]
  },
  {
   "cell_type": "code",
   "execution_count": 16,
   "metadata": {
    "ExecuteTime": {
     "end_time": "2021-04-22T18:43:55.660542Z",
     "start_time": "2021-04-22T18:43:54.600380Z"
    },
    "hidden": true
   },
   "outputs": [
    {
     "data": {
      "text/plain": [
       "<seaborn.axisgrid.JointGrid at 0x1d009803a30>"
      ]
     },
     "execution_count": 16,
     "metadata": {},
     "output_type": "execute_result"
    },
    {
     "data": {
      "image/png": "[encoded data removed]",
      "text/plain": [
       "<Figure size 432x432 with 3 Axes>"
      ]
     },
     "metadata": {
      "needs_background": "light"
     },
     "output_type": "display_data"
    }
   ],
   "source": [
    "sns.jointplot(x='Cimento', y='Resistência', data=df_concreto, kind=\"reg\")"
   ]
  },
  {
   "cell_type": "markdown",
   "metadata": {
    "ExecuteTime": {
     "end_time": "2021-01-20T18:53:34.295117Z",
     "start_time": "2021-01-20T18:53:34.291126Z"
    },
    "hidden": true
   },
   "source": [
    "### 3.1.2. Água"
   ]
  },
  {
   "cell_type": "code",
   "execution_count": 17,
   "metadata": {
    "ExecuteTime": {
     "end_time": "2021-04-22T18:43:56.085407Z",
     "start_time": "2021-04-22T18:43:55.665529Z"
    },
    "hidden": true
   },
   "outputs": [
    {
     "name": "stderr",
     "output_type": "stream",
     "text": [
      "c:\\Projetos_git\\Concreto\\venv_concreto\\lib\\site-packages\\seaborn\\distributions.py:2619: FutureWarning: `distplot` is a deprecated function and will be removed in a future version. Please adapt your code to use either `displot` (a figure-level function with similar flexibility) or `histplot` (an axes-level function for histograms).\n",
      "  warnings.warn(msg, FutureWarning)\n"
     ]
    },
    {
     "data": {
      "text/plain": [
       "<AxesSubplot:xlabel='Agua'>"
      ]
     },
     "execution_count": 17,
     "metadata": {},
     "output_type": "execute_result"
    },
    {
     "data": {
      "image/png": "[encoded data removed]",
      "text/plain": [
       "<Figure size 576x432 with 1 Axes>"
      ]
     },
     "metadata": {
      "needs_background": "light"
     },
     "output_type": "display_data"
    }
   ],
   "source": [
    "plt.figure(figsize=(8,6))\n",
    "sns.distplot(df_concreto.Agua, kde=0)"
   ]
  },
  {
   "cell_type": "markdown",
   "metadata": {
    "hidden": true
   },
   "source": [
    "Aqui nos vemos que está bem normalizado os dados da água. Nos temos um maior uso entre 180 e 200."
   ]
  },
  {
   "cell_type": "markdown",
   "metadata": {
    "hidden": true
   },
   "source": [
    "**Água x Resistência**\n",
    "\n",
    "Agora vamos dar uma olhada em como a água se comporta em relação a resistencia:"
   ]
  },
  {
   "cell_type": "code",
   "execution_count": 18,
   "metadata": {
    "ExecuteTime": {
     "end_time": "2021-04-22T18:43:57.050826Z",
     "start_time": "2021-04-22T18:43:56.089395Z"
    },
    "hidden": true
   },
   "outputs": [
    {
     "data": {
      "text/plain": [
       "<seaborn.axisgrid.JointGrid at 0x1d009a20100>"
      ]
     },
     "execution_count": 18,
     "metadata": {},
     "output_type": "execute_result"
    },
    {
     "data": {
      "image/png": "[encoded data removed]",
      "text/plain": [
       "<Figure size 432x432 with 3 Axes>"
      ]
     },
     "metadata": {
      "needs_background": "light"
     },
     "output_type": "display_data"
    }
   ],
   "source": [
    "sns.jointplot(x='Agua', y='Resistência', data=df_concreto, kind=\"reg\")"
   ]
  },
  {
   "cell_type": "markdown",
   "metadata": {
    "hidden": true
   },
   "source": [
    "Como podemos ver, ao contrario do cimento a relação da água com a resistencia é inversamente proporcional."
   ]
  },
  {
   "cell_type": "markdown",
   "metadata": {
    "hidden": true
   },
   "source": [
    "**Água x Cimento**\n",
    "\n",
    "Agora vamos dar uma olhada na quantidade de água em relação ao cimento. Provavelmente quanto mais cimento, mais água:"
   ]
  },
  {
   "cell_type": "code",
   "execution_count": 19,
   "metadata": {
    "ExecuteTime": {
     "end_time": "2021-04-22T18:43:57.968371Z",
     "start_time": "2021-04-22T18:43:57.053818Z"
    },
    "hidden": true
   },
   "outputs": [
    {
     "data": {
      "text/plain": [
       "<seaborn.axisgrid.JointGrid at 0x1d009b82040>"
      ]
     },
     "execution_count": 19,
     "metadata": {},
     "output_type": "execute_result"
    },
    {
     "data": {
      "image/png": "[encoded data removed]",
      "text/plain": [
       "<Figure size 432x432 with 3 Axes>"
      ]
     },
     "metadata": {
      "needs_background": "light"
     },
     "output_type": "display_data"
    }
   ],
   "source": [
    "sns.jointplot(x='Agua', y='Cimento', data=df_concreto, kind=\"reg\")"
   ]
  },
  {
   "cell_type": "markdown",
   "metadata": {
    "hidden": true
   },
   "source": [
    "Podemos ver que a questão anterior é confirmada, a uma alta correlação entre o tempo e a resistência. Uma ideia pode ser separar os dados por tempo, para utilizar apenas um, retirando assim o tempo como uma feature, pois precisamos de uma resistencia absoluta sem relação ao tempo."
   ]
  },
  {
   "cell_type": "markdown",
   "metadata": {
    "heading_collapsed": true
   },
   "source": [
    "## 3.2. Outliers"
   ]
  },
  {
   "cell_type": "markdown",
   "metadata": {
    "hidden": true
   },
   "source": [
    "Vamos dar uma olhada nos possiveis outliers."
   ]
  },
  {
   "cell_type": "code",
   "execution_count": 20,
   "metadata": {
    "ExecuteTime": {
     "end_time": "2021-04-22T18:44:01.824063Z",
     "start_time": "2021-04-22T18:44:00.370947Z"
    },
    "hidden": true
   },
   "outputs": [
    {
     "data": {
      "image/png": "[encoded data removed]",
      "text/plain": [
       "<Figure size 936x1440 with 7 Axes>"
      ]
     },
     "metadata": {
      "needs_background": "light"
     },
     "output_type": "display_data"
    }
   ],
   "source": [
    "plt.figure(figsize=(13,20))\n",
    "plt.subplot(4,2,1)\n",
    "sns.boxplot(x=df_concreto['Cimento'])\n",
    "plt.title(\"Grafico Cimento\")\n",
    "\n",
    "plt.subplot(4,2,2)\n",
    "sns.boxplot(x=df_concreto['Agua'])\n",
    "plt.title(\"Grafico Água\")\n",
    "\n",
    "\n",
    "plt.subplot(4,2,3)\n",
    "sns.boxplot(x=df_concreto['AgregadoGrosso'])\n",
    "plt.title(\"Grafico Agregado Graudo\")\n",
    "\n",
    "\n",
    "plt.subplot(4,2,4)\n",
    "sns.boxplot(x=df_concreto['Agregadofino'])\n",
    "plt.title(\"Grafico Agregado Miudo\");\n",
    "\n",
    "plt.subplot(4,2,5)\n",
    "sns.boxplot(x=df_concreto['EscóriadeAltoForno'])\n",
    "plt.title(\"Grafico Escória de AltoForno\");\n",
    "\n",
    "plt.subplot(4,2,6)\n",
    "sns.boxplot(x=df_concreto['CinzasVolantes'])\n",
    "plt.title(\"Grafico Cinzas Volantes\");\n",
    "\n",
    "plt.subplot(4,2,7)\n",
    "sns.boxplot(x=df_concreto['Superplastificante'])\n",
    "plt.title(\"Grafico Superplastificante\");"
   ]
  },
  {
   "cell_type": "markdown",
   "metadata": {
    "hidden": true
   },
   "source": [
    "Temos alguns possiveis outliers na variavel agua para conferirmos."
   ]
  },
  {
   "cell_type": "code",
   "execution_count": 21,
   "metadata": {},
   "outputs": [
    {
     "data": {
      "text/html": [
       "<div>\n",
       "<style scoped>\n",
       "    .dataframe tbody tr th:only-of-type {\n",
       "        vertical-align: middle;\n",
       "    }\n",
       "\n",
       "    .dataframe tbody tr th {\n",
       "        vertical-align: top;\n",
       "    }\n",
       "\n",
       "    .dataframe thead th {\n",
       "        text-align: right;\n",
       "    }\n",
       "</style>\n",
       "<table border=\"1\" class=\"dataframe\">\n",
       "  <thead>\n",
       "    <tr style=\"text-align: right;\">\n",
       "      <th></th>\n",
       "      <th>Cimento</th>\n",
       "      <th>EscóriadeAltoForno</th>\n",
       "      <th>CinzasVolantes</th>\n",
       "      <th>Agua</th>\n",
       "      <th>Superplastificante</th>\n",
       "      <th>AgregadoGrosso</th>\n",
       "      <th>Agregadofino</th>\n",
       "      <th>Resistência</th>\n",
       "    </tr>\n",
       "  </thead>\n",
       "  <tbody>\n",
       "    <tr>\n",
       "      <th>7</th>\n",
       "      <td>380.0</td>\n",
       "      <td>95.0</td>\n",
       "      <td>0.0</td>\n",
       "      <td>228.0</td>\n",
       "      <td>0.0</td>\n",
       "      <td>932.0</td>\n",
       "      <td>594.0</td>\n",
       "      <td>36.45</td>\n",
       "    </tr>\n",
       "    <tr>\n",
       "      <th>8</th>\n",
       "      <td>266.0</td>\n",
       "      <td>114.0</td>\n",
       "      <td>0.0</td>\n",
       "      <td>228.0</td>\n",
       "      <td>0.0</td>\n",
       "      <td>932.0</td>\n",
       "      <td>670.0</td>\n",
       "      <td>45.85</td>\n",
       "    </tr>\n",
       "    <tr>\n",
       "      <th>9</th>\n",
       "      <td>475.0</td>\n",
       "      <td>0.0</td>\n",
       "      <td>0.0</td>\n",
       "      <td>228.0</td>\n",
       "      <td>0.0</td>\n",
       "      <td>932.0</td>\n",
       "      <td>594.0</td>\n",
       "      <td>39.29</td>\n",
       "    </tr>\n",
       "    <tr>\n",
       "      <th>14</th>\n",
       "      <td>304.0</td>\n",
       "      <td>76.0</td>\n",
       "      <td>0.0</td>\n",
       "      <td>228.0</td>\n",
       "      <td>0.0</td>\n",
       "      <td>932.0</td>\n",
       "      <td>670.0</td>\n",
       "      <td>47.81</td>\n",
       "    </tr>\n",
       "    <tr>\n",
       "      <th>28</th>\n",
       "      <td>427.5</td>\n",
       "      <td>47.5</td>\n",
       "      <td>0.0</td>\n",
       "      <td>228.0</td>\n",
       "      <td>0.0</td>\n",
       "      <td>932.0</td>\n",
       "      <td>594.0</td>\n",
       "      <td>37.43</td>\n",
       "    </tr>\n",
       "    <tr>\n",
       "      <th>36</th>\n",
       "      <td>237.5</td>\n",
       "      <td>237.5</td>\n",
       "      <td>0.0</td>\n",
       "      <td>228.0</td>\n",
       "      <td>0.0</td>\n",
       "      <td>932.0</td>\n",
       "      <td>594.0</td>\n",
       "      <td>30.08</td>\n",
       "    </tr>\n",
       "    <tr>\n",
       "      <th>59</th>\n",
       "      <td>332.5</td>\n",
       "      <td>142.5</td>\n",
       "      <td>0.0</td>\n",
       "      <td>228.0</td>\n",
       "      <td>0.0</td>\n",
       "      <td>932.0</td>\n",
       "      <td>594.0</td>\n",
       "      <td>33.02</td>\n",
       "    </tr>\n",
       "    <tr>\n",
       "      <th>68</th>\n",
       "      <td>190.0</td>\n",
       "      <td>190.0</td>\n",
       "      <td>0.0</td>\n",
       "      <td>228.0</td>\n",
       "      <td>0.0</td>\n",
       "      <td>932.0</td>\n",
       "      <td>670.0</td>\n",
       "      <td>40.86</td>\n",
       "    </tr>\n",
       "    <tr>\n",
       "      <th>226</th>\n",
       "      <td>168.0</td>\n",
       "      <td>42.1</td>\n",
       "      <td>163.8</td>\n",
       "      <td>121.8</td>\n",
       "      <td>5.7</td>\n",
       "      <td>1058.7</td>\n",
       "      <td>780.1</td>\n",
       "      <td>24.24</td>\n",
       "    </tr>\n",
       "    <tr>\n",
       "      <th>316</th>\n",
       "      <td>251.8</td>\n",
       "      <td>0.0</td>\n",
       "      <td>99.9</td>\n",
       "      <td>146.1</td>\n",
       "      <td>12.4</td>\n",
       "      <td>1006.0</td>\n",
       "      <td>899.8</td>\n",
       "      <td>33.94</td>\n",
       "    </tr>\n",
       "    <tr>\n",
       "      <th>497</th>\n",
       "      <td>355.0</td>\n",
       "      <td>19.0</td>\n",
       "      <td>97.0</td>\n",
       "      <td>145.0</td>\n",
       "      <td>13.1</td>\n",
       "      <td>967.0</td>\n",
       "      <td>871.0</td>\n",
       "      <td>44.03</td>\n",
       "    </tr>\n",
       "    <tr>\n",
       "      <th>862</th>\n",
       "      <td>140.0</td>\n",
       "      <td>164.0</td>\n",
       "      <td>128.0</td>\n",
       "      <td>237.0</td>\n",
       "      <td>6.0</td>\n",
       "      <td>869.0</td>\n",
       "      <td>656.0</td>\n",
       "      <td>35.23</td>\n",
       "    </tr>\n",
       "    <tr>\n",
       "      <th>873</th>\n",
       "      <td>237.0</td>\n",
       "      <td>92.0</td>\n",
       "      <td>71.0</td>\n",
       "      <td>247.0</td>\n",
       "      <td>6.0</td>\n",
       "      <td>853.0</td>\n",
       "      <td>695.0</td>\n",
       "      <td>28.63</td>\n",
       "    </tr>\n",
       "    <tr>\n",
       "      <th>877</th>\n",
       "      <td>296.0</td>\n",
       "      <td>0.0</td>\n",
       "      <td>107.0</td>\n",
       "      <td>221.0</td>\n",
       "      <td>11.0</td>\n",
       "      <td>819.0</td>\n",
       "      <td>778.0</td>\n",
       "      <td>31.42</td>\n",
       "    </tr>\n",
       "    <tr>\n",
       "      <th>908</th>\n",
       "      <td>313.0</td>\n",
       "      <td>145.0</td>\n",
       "      <td>0.0</td>\n",
       "      <td>127.0</td>\n",
       "      <td>8.0</td>\n",
       "      <td>1000.0</td>\n",
       "      <td>822.0</td>\n",
       "      <td>44.52</td>\n",
       "    </tr>\n",
       "    <tr>\n",
       "      <th>932</th>\n",
       "      <td>154.0</td>\n",
       "      <td>174.0</td>\n",
       "      <td>185.0</td>\n",
       "      <td>228.0</td>\n",
       "      <td>7.0</td>\n",
       "      <td>845.0</td>\n",
       "      <td>612.0</td>\n",
       "      <td>24.34</td>\n",
       "    </tr>\n",
       "    <tr>\n",
       "      <th>935</th>\n",
       "      <td>156.0</td>\n",
       "      <td>178.0</td>\n",
       "      <td>187.0</td>\n",
       "      <td>221.0</td>\n",
       "      <td>7.0</td>\n",
       "      <td>854.0</td>\n",
       "      <td>614.0</td>\n",
       "      <td>29.41</td>\n",
       "    </tr>\n",
       "    <tr>\n",
       "      <th>936</th>\n",
       "      <td>236.9</td>\n",
       "      <td>91.7</td>\n",
       "      <td>71.5</td>\n",
       "      <td>246.9</td>\n",
       "      <td>6.0</td>\n",
       "      <td>852.9</td>\n",
       "      <td>695.4</td>\n",
       "      <td>28.63</td>\n",
       "    </tr>\n",
       "    <tr>\n",
       "      <th>940</th>\n",
       "      <td>296.0</td>\n",
       "      <td>0.0</td>\n",
       "      <td>106.7</td>\n",
       "      <td>221.4</td>\n",
       "      <td>10.5</td>\n",
       "      <td>819.2</td>\n",
       "      <td>778.4</td>\n",
       "      <td>31.42</td>\n",
       "    </tr>\n",
       "    <tr>\n",
       "      <th>971</th>\n",
       "      <td>312.7</td>\n",
       "      <td>144.7</td>\n",
       "      <td>0.0</td>\n",
       "      <td>127.3</td>\n",
       "      <td>8.0</td>\n",
       "      <td>999.7</td>\n",
       "      <td>822.2</td>\n",
       "      <td>44.52</td>\n",
       "    </tr>\n",
       "    <tr>\n",
       "      <th>1019</th>\n",
       "      <td>139.7</td>\n",
       "      <td>163.9</td>\n",
       "      <td>127.7</td>\n",
       "      <td>236.7</td>\n",
       "      <td>5.8</td>\n",
       "      <td>868.6</td>\n",
       "      <td>655.6</td>\n",
       "      <td>35.23</td>\n",
       "    </tr>\n",
       "  </tbody>\n",
       "</table>\n",
       "</div>"
      ],
      "text/plain": [
       "      Cimento  EscóriadeAltoForno  CinzasVolantes   Agua  Superplastificante  \\\n",
       "7       380.0                95.0             0.0  228.0                 0.0   \n",
       "8       266.0               114.0             0.0  228.0                 0.0   \n",
       "9       475.0                 0.0             0.0  228.0                 0.0   \n",
       "14      304.0                76.0             0.0  228.0                 0.0   \n",
       "28      427.5                47.5             0.0  228.0                 0.0   \n",
       "36      237.5               237.5             0.0  228.0                 0.0   \n",
       "59      332.5               142.5             0.0  228.0                 0.0   \n",
       "68      190.0               190.0             0.0  228.0                 0.0   \n",
       "226     168.0                42.1           163.8  121.8                 5.7   \n",
       "316     251.8                 0.0            99.9  146.1                12.4   \n",
       "497     355.0                19.0            97.0  145.0                13.1   \n",
       "862     140.0               164.0           128.0  237.0                 6.0   \n",
       "873     237.0                92.0            71.0  247.0                 6.0   \n",
       "877     296.0                 0.0           107.0  221.0                11.0   \n",
       "908     313.0               145.0             0.0  127.0                 8.0   \n",
       "932     154.0               174.0           185.0  228.0                 7.0   \n",
       "935     156.0               178.0           187.0  221.0                 7.0   \n",
       "936     236.9                91.7            71.5  246.9                 6.0   \n",
       "940     296.0                 0.0           106.7  221.4                10.5   \n",
       "971     312.7               144.7             0.0  127.3                 8.0   \n",
       "1019    139.7               163.9           127.7  236.7                 5.8   \n",
       "\n",
       "      AgregadoGrosso  Agregadofino  Resistência  \n",
       "7              932.0         594.0        36.45  \n",
       "8              932.0         670.0        45.85  \n",
       "9              932.0         594.0        39.29  \n",
       "14             932.0         670.0        47.81  \n",
       "28             932.0         594.0        37.43  \n",
       "36             932.0         594.0        30.08  \n",
       "59             932.0         594.0        33.02  \n",
       "68             932.0         670.0        40.86  \n",
       "226           1058.7         780.1        24.24  \n",
       "316           1006.0         899.8        33.94  \n",
       "497            967.0         871.0        44.03  \n",
       "862            869.0         656.0        35.23  \n",
       "873            853.0         695.0        28.63  \n",
       "877            819.0         778.0        31.42  \n",
       "908           1000.0         822.0        44.52  \n",
       "932            845.0         612.0        24.34  \n",
       "935            854.0         614.0        29.41  \n",
       "936            852.9         695.4        28.63  \n",
       "940            819.2         778.4        31.42  \n",
       "971            999.7         822.2        44.52  \n",
       "1019           868.6         655.6        35.23  "
      ]
     },
     "execution_count": 21,
     "metadata": {},
     "output_type": "execute_result"
    }
   ],
   "source": [
    "feature_data = df_concreto['Agua']\n",
    "Q1 = np.percentile(df_concreto['Agua'], 25.)\n",
    "Q3 = np.percentile(df_concreto['Agua'], 75.) \n",
    "IQR = Q3-Q1 \n",
    "possiveis_outliers = df_concreto[~((df_concreto['Agua'] >= Q1 - 1.5*IQR) & (df_concreto['Agua'] <= Q3 + 1.5*IQR))]\n",
    "possiveis_outliers"
   ]
  },
  {
   "cell_type": "markdown",
   "metadata": {},
   "source": [
    "Algumas instancias do conjunto possuem quantidade de cimento baixa para a resistência apresentada, no entanto, não achamos nada que justifique a classificação das linhas como outliers."
   ]
  },
  {
   "cell_type": "markdown",
   "metadata": {},
   "source": [
    "## 3.3. Correlação"
   ]
  },
  {
   "cell_type": "markdown",
   "metadata": {},
   "source": [
    "Vamos analisar a correlação para ver quais as features mais ajudam a explicar o fenomeno e ver se existe variaveis colineares."
   ]
  },
  {
   "cell_type": "markdown",
   "metadata": {},
   "source": [
    "Variaveis colineares são aqueles que tem alta corrrelação com outra. Essas variaveis podem diminuir a aprendizagem do modelo, diminuir a interpretabilidade do modelo e diminuir o desempenho de generalização no conjunto de teste."
   ]
  },
  {
   "cell_type": "code",
   "execution_count": 22,
   "metadata": {
    "ExecuteTime": {
     "end_time": "2021-04-22T18:44:03.715006Z",
     "start_time": "2021-04-22T18:44:02.010599Z"
    }
   },
   "outputs": [
    {
     "data": {
      "image/png": "[encoded data removed]",
      "text/plain": [
       "<Figure size 1440x1080 with 2 Axes>"
      ]
     },
     "metadata": {
      "needs_background": "light"
     },
     "output_type": "display_data"
    }
   ],
   "source": [
    "X = df_concreto.drop(['Resistência'], axis=1)\n",
    "y = df_concreto['Resistência']\n",
    "\n",
    "test_corr = X.copy()\n",
    "test_corr['Resistência'] = y\n",
    "\n",
    "plt.rcParams['figure.figsize'] = (20, 15) \n",
    "sns.heatmap(test_corr.corr(), annot = True, linewidths=.5, cmap=\"YlGnBu\")\n",
    "plt.title('Corelation Between Features', fontsize = 30)\n",
    "plt.show()"
   ]
  },
  {
   "cell_type": "markdown",
   "metadata": {},
   "source": [
    "Podemos ver que não temos variveis com correlação acima de 0.8, o que é um treshold aceitavel para colineares."
   ]
  },
  {
   "cell_type": "markdown",
   "metadata": {},
   "source": [
    "Vamos criar uma tabela agora para ver quais variaveis possuem mais relação com a resistencia:"
   ]
  },
  {
   "cell_type": "code",
   "execution_count": 23,
   "metadata": {
    "ExecuteTime": {
     "end_time": "2021-04-22T18:44:03.760886Z",
     "start_time": "2021-04-22T18:44:03.717998Z"
    },
    "scrolled": true
   },
   "outputs": [
    {
     "data": {
      "text/html": [
       "<div>\n",
       "<style scoped>\n",
       "    .dataframe tbody tr th:only-of-type {\n",
       "        vertical-align: middle;\n",
       "    }\n",
       "\n",
       "    .dataframe tbody tr th {\n",
       "        vertical-align: top;\n",
       "    }\n",
       "\n",
       "    .dataframe thead th {\n",
       "        text-align: right;\n",
       "    }\n",
       "</style>\n",
       "<table border=\"1\" class=\"dataframe\">\n",
       "  <thead>\n",
       "    <tr style=\"text-align: right;\">\n",
       "      <th></th>\n",
       "      <th>Cimento</th>\n",
       "      <th>EscóriadeAltoForno</th>\n",
       "      <th>CinzasVolantes</th>\n",
       "      <th>Agua</th>\n",
       "      <th>Superplastificante</th>\n",
       "      <th>AgregadoGrosso</th>\n",
       "      <th>Agregadofino</th>\n",
       "      <th>Resistência</th>\n",
       "    </tr>\n",
       "  </thead>\n",
       "  <tbody>\n",
       "    <tr>\n",
       "      <th>Cimento</th>\n",
       "      <td>1.000000</td>\n",
       "      <td>0.539787</td>\n",
       "      <td>0.338277</td>\n",
       "      <td>0.067164</td>\n",
       "      <td>0.227554</td>\n",
       "      <td>0.081729</td>\n",
       "      <td>0.128512</td>\n",
       "      <td>0.460541</td>\n",
       "    </tr>\n",
       "    <tr>\n",
       "      <th>EscóriadeAltoForno</th>\n",
       "      <td>0.539787</td>\n",
       "      <td>1.000000</td>\n",
       "      <td>0.189448</td>\n",
       "      <td>0.143183</td>\n",
       "      <td>0.010479</td>\n",
       "      <td>0.238554</td>\n",
       "      <td>0.324380</td>\n",
       "      <td>0.100701</td>\n",
       "    </tr>\n",
       "    <tr>\n",
       "      <th>CinzasVolantes</th>\n",
       "      <td>0.338277</td>\n",
       "      <td>0.189448</td>\n",
       "      <td>1.000000</td>\n",
       "      <td>0.166306</td>\n",
       "      <td>0.634714</td>\n",
       "      <td>0.327709</td>\n",
       "      <td>0.065864</td>\n",
       "      <td>0.078618</td>\n",
       "    </tr>\n",
       "    <tr>\n",
       "      <th>Agua</th>\n",
       "      <td>0.067164</td>\n",
       "      <td>0.143183</td>\n",
       "      <td>0.166306</td>\n",
       "      <td>1.000000</td>\n",
       "      <td>0.370762</td>\n",
       "      <td>0.327608</td>\n",
       "      <td>0.417546</td>\n",
       "      <td>0.120138</td>\n",
       "    </tr>\n",
       "    <tr>\n",
       "      <th>Superplastificante</th>\n",
       "      <td>0.227554</td>\n",
       "      <td>0.010479</td>\n",
       "      <td>0.634714</td>\n",
       "      <td>0.370762</td>\n",
       "      <td>1.000000</td>\n",
       "      <td>0.354946</td>\n",
       "      <td>0.012820</td>\n",
       "      <td>0.124153</td>\n",
       "    </tr>\n",
       "    <tr>\n",
       "      <th>AgregadoGrosso</th>\n",
       "      <td>0.081729</td>\n",
       "      <td>0.238554</td>\n",
       "      <td>0.327709</td>\n",
       "      <td>0.327608</td>\n",
       "      <td>0.354946</td>\n",
       "      <td>1.000000</td>\n",
       "      <td>0.068268</td>\n",
       "      <td>0.149414</td>\n",
       "    </tr>\n",
       "    <tr>\n",
       "      <th>Agregadofino</th>\n",
       "      <td>0.128512</td>\n",
       "      <td>0.324380</td>\n",
       "      <td>0.065864</td>\n",
       "      <td>0.417546</td>\n",
       "      <td>0.012820</td>\n",
       "      <td>0.068268</td>\n",
       "      <td>1.000000</td>\n",
       "      <td>0.237149</td>\n",
       "    </tr>\n",
       "    <tr>\n",
       "      <th>Resistência</th>\n",
       "      <td>0.460541</td>\n",
       "      <td>0.100701</td>\n",
       "      <td>0.078618</td>\n",
       "      <td>0.120138</td>\n",
       "      <td>0.124153</td>\n",
       "      <td>0.149414</td>\n",
       "      <td>0.237149</td>\n",
       "      <td>1.000000</td>\n",
       "    </tr>\n",
       "  </tbody>\n",
       "</table>\n",
       "</div>"
      ],
      "text/plain": [
       "                     Cimento  EscóriadeAltoForno  CinzasVolantes      Agua  \\\n",
       "Cimento             1.000000            0.539787        0.338277  0.067164   \n",
       "EscóriadeAltoForno  0.539787            1.000000        0.189448  0.143183   \n",
       "CinzasVolantes      0.338277            0.189448        1.000000  0.166306   \n",
       "Agua                0.067164            0.143183        0.166306  1.000000   \n",
       "Superplastificante  0.227554            0.010479        0.634714  0.370762   \n",
       "AgregadoGrosso      0.081729            0.238554        0.327709  0.327608   \n",
       "Agregadofino        0.128512            0.324380        0.065864  0.417546   \n",
       "Resistência         0.460541            0.100701        0.078618  0.120138   \n",
       "\n",
       "                    Superplastificante  AgregadoGrosso  Agregadofino  \\\n",
       "Cimento                       0.227554        0.081729      0.128512   \n",
       "EscóriadeAltoForno            0.010479        0.238554      0.324380   \n",
       "CinzasVolantes                0.634714        0.327709      0.065864   \n",
       "Agua                          0.370762        0.327608      0.417546   \n",
       "Superplastificante            1.000000        0.354946      0.012820   \n",
       "AgregadoGrosso                0.354946        1.000000      0.068268   \n",
       "Agregadofino                  0.012820        0.068268      1.000000   \n",
       "Resistência                   0.124153        0.149414      0.237149   \n",
       "\n",
       "                    Resistência  \n",
       "Cimento                0.460541  \n",
       "EscóriadeAltoForno     0.100701  \n",
       "CinzasVolantes         0.078618  \n",
       "Agua                   0.120138  \n",
       "Superplastificante     0.124153  \n",
       "AgregadoGrosso         0.149414  \n",
       "Agregadofino           0.237149  \n",
       "Resistência            1.000000  "
      ]
     },
     "execution_count": 23,
     "metadata": {},
     "output_type": "execute_result"
    }
   ],
   "source": [
    "corr_matrix = df_concreto.corr().abs()\n",
    "corr_matrix"
   ]
  },
  {
   "cell_type": "markdown",
   "metadata": {},
   "source": [
    "Podemos ver que cimento tem alta correlação ficando em primeiro, depois temos Agregado miudo, Agregado graudo e Superplastificante."
   ]
  }
 ],
 "metadata": {
  "hide_input": false,
  "kernelspec": {
   "display_name": "Python 3",
   "language": "python",
   "name": "python3"
  },
  "language_info": {
   "codemirror_mode": {
    "name": "ipython",
    "version": 3
   },
   "file_extension": ".py",
   "mimetype": "text/x-python",
   "name": "python",
   "nbconvert_exporter": "python",
   "pygments_lexer": "ipython3",
   "version": "3.8.6"
  }
 },
 "nbformat": 4,
 "nbformat_minor": 4
}
